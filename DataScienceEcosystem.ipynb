{
 "cells": [
  {
   "cell_type": "markdown",
   "id": "6847637a",
   "metadata": {},
   "source": [
    "# Data Science Tools and Ecosystem"
   ]
  },
  {
   "cell_type": "markdown",
   "id": "cd9329c6",
   "metadata": {},
   "source": [
    "### In this notebook, Data Science Tools and Ecosystm are summarized."
   ]
  },
  {
   "cell_type": "markdown",
   "id": "1184c641",
   "metadata": {},
   "source": [
    "### **Objectives:**\n",
    "- Popular languages for Data Science\n",
    "- Libraries for Data Science\n",
    "- Data Science Tools\n"
   ]
  },
  {
   "cell_type": "markdown",
   "id": "ab8c8540",
   "metadata": {},
   "source": [
    "### Some of the popular languages that Data Scientists use are: \n",
    "### 1. Python\n",
    "### 2. R\n",
    "### 3. SQL"
   ]
  },
  {
   "cell_type": "markdown",
   "id": "48db8e20",
   "metadata": {},
   "source": [
    "### Some of the commonly used libraries used by Data Scientists include:\n",
    "### 1. Numpy\n",
    "### 2. Pandas\n",
    "### 3. Matplotlib"
   ]
  },
  {
   "cell_type": "markdown",
   "id": "dd8d6c40",
   "metadata": {},
   "source": [
    "| Data Science Tools |\n",
    "|---------------------|\n",
    "| RStudio              |\n",
    "| Apache Spark             |\n",
    "| TensorFlow              |\n"
   ]
  },
  {
   "cell_type": "markdown",
   "id": "b009d24a",
   "metadata": {},
   "source": [
    "### Below are a few examples of evaluating arithmetic expressions in Python"
   ]
  },
  {
   "cell_type": "code",
   "execution_count": 1,
   "id": "bf2ad0a4",
   "metadata": {},
   "outputs": [
    {
     "data": {
      "text/plain": [
       "17"
      ]
     },
     "execution_count": 1,
     "metadata": {},
     "output_type": "execute_result"
    }
   ],
   "source": [
    "# This is a simple arithmetic expression to multiply then add integers\n",
    "a = (3 * 4) + 5\n",
    "a"
   ]
  },
  {
   "cell_type": "code",
   "execution_count": 2,
   "id": "a72ed10f",
   "metadata": {},
   "outputs": [
    {
     "data": {
      "text/plain": [
       "3.3333333333333335"
      ]
     },
     "execution_count": 2,
     "metadata": {},
     "output_type": "execute_result"
    }
   ],
   "source": [
    "# This will convert 200 minutos to hours by dividing by 60\n",
    "b = 200 / 60\n",
    "b"
   ]
  },
  {
   "cell_type": "markdown",
   "id": "78f68686",
   "metadata": {},
   "source": [
    "## Author\n",
    "Aminadab Y. Cruz"
   ]
  },
  {
   "cell_type": "code",
   "execution_count": null,
   "id": "53bbe5fc",
   "metadata": {},
   "outputs": [],
   "source": []
  }
 ],
 "metadata": {
  "kernelspec": {
   "display_name": "Python 3 (ipykernel)",
   "language": "python",
   "name": "python3"
  },
  "language_info": {
   "codemirror_mode": {
    "name": "ipython",
    "version": 3
   },
   "file_extension": ".py",
   "mimetype": "text/x-python",
   "name": "python",
   "nbconvert_exporter": "python",
   "pygments_lexer": "ipython3",
   "version": "3.11.5"
  }
 },
 "nbformat": 4,
 "nbformat_minor": 5
}
